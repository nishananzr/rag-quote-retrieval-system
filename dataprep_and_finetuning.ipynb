{
 "cells": [
  {
   "cell_type": "code",
   "execution_count": 1,
   "id": "541c14c6-3396-45c4-a3fe-75a45c908a4c",
   "metadata": {},
   "outputs": [],
   "source": [
    "# Phase1 - Data preparation"
   ]
  },
  {
   "cell_type": "code",
   "execution_count": 2,
   "id": "3bd37a9a-f6c0-4de3-ba3d-e5fcec7e9b79",
   "metadata": {},
   "outputs": [],
   "source": [
    "import pandas as pd\n",
    "from datasets import load_dataset"
   ]
  },
  {
   "cell_type": "code",
   "execution_count": 3,
   "id": "85bd7d8b-0379-4907-bd93-742a1469c4a9",
   "metadata": {
    "scrolled": true
   },
   "outputs": [
    {
     "name": "stdout",
     "output_type": "stream",
     "text": [
      "DatasetDict({\n",
      "    train: Dataset({\n",
      "        features: ['quote', 'author', 'tags'],\n",
      "        num_rows: 2508\n",
      "    })\n",
      "})\n"
     ]
    }
   ],
   "source": [
    "# Loading dataset from Hugging Face and analysing it's structure\n",
    "dataset = load_dataset(\"Abirate/english_quotes\")\n",
    "print(dataset)"
   ]
  },
  {
   "cell_type": "code",
   "execution_count": 4,
   "id": "9051fcc9-83a0-4476-a3e4-563b2d7c6900",
   "metadata": {},
   "outputs": [
    {
     "name": "stdout",
     "output_type": "stream",
     "text": [
      "dataset converted to pandas dataframe\n"
     ]
    }
   ],
   "source": [
    "#converting to pandas dataframe for more convinience\n",
    "df = dataset['train'].to_pandas()\n",
    "print(\"dataset converted to pandas dataframe\")"
   ]
  },
  {
   "cell_type": "code",
   "execution_count": 5,
   "id": "c1b534e5-6999-45b4-a11f-f59ff4e214e5",
   "metadata": {
    "scrolled": true
   },
   "outputs": [
    {
     "data": {
      "text/html": [
       "<div>\n",
       "<style scoped>\n",
       "    .dataframe tbody tr th:only-of-type {\n",
       "        vertical-align: middle;\n",
       "    }\n",
       "\n",
       "    .dataframe tbody tr th {\n",
       "        vertical-align: top;\n",
       "    }\n",
       "\n",
       "    .dataframe thead th {\n",
       "        text-align: right;\n",
       "    }\n",
       "</style>\n",
       "<table border=\"1\" class=\"dataframe\">\n",
       "  <thead>\n",
       "    <tr style=\"text-align: right;\">\n",
       "      <th></th>\n",
       "      <th>quote</th>\n",
       "      <th>author</th>\n",
       "      <th>tags</th>\n",
       "    </tr>\n",
       "  </thead>\n",
       "  <tbody>\n",
       "    <tr>\n",
       "      <th>0</th>\n",
       "      <td>“Be yourself; everyone else is already taken.”</td>\n",
       "      <td>Oscar Wilde</td>\n",
       "      <td>[be-yourself, gilbert-perreira, honesty, inspi...</td>\n",
       "    </tr>\n",
       "    <tr>\n",
       "      <th>1</th>\n",
       "      <td>“I'm selfish, impatient and a little insecure....</td>\n",
       "      <td>Marilyn Monroe</td>\n",
       "      <td>[best, life, love, mistakes, out-of-control, t...</td>\n",
       "    </tr>\n",
       "    <tr>\n",
       "      <th>2</th>\n",
       "      <td>“Two things are infinite: the universe and hum...</td>\n",
       "      <td>Albert Einstein</td>\n",
       "      <td>[human-nature, humor, infinity, philosophy, sc...</td>\n",
       "    </tr>\n",
       "    <tr>\n",
       "      <th>3</th>\n",
       "      <td>“So many books, so little time.”</td>\n",
       "      <td>Frank Zappa</td>\n",
       "      <td>[books, humor]</td>\n",
       "    </tr>\n",
       "    <tr>\n",
       "      <th>4</th>\n",
       "      <td>“A room without books is like a body without a...</td>\n",
       "      <td>Marcus Tullius Cicero</td>\n",
       "      <td>[books, simile, soul]</td>\n",
       "    </tr>\n",
       "  </tbody>\n",
       "</table>\n",
       "</div>"
      ],
      "text/plain": [
       "                                               quote                 author  \\\n",
       "0     “Be yourself; everyone else is already taken.”            Oscar Wilde   \n",
       "1  “I'm selfish, impatient and a little insecure....         Marilyn Monroe   \n",
       "2  “Two things are infinite: the universe and hum...        Albert Einstein   \n",
       "3                   “So many books, so little time.”            Frank Zappa   \n",
       "4  “A room without books is like a body without a...  Marcus Tullius Cicero   \n",
       "\n",
       "                                                tags  \n",
       "0  [be-yourself, gilbert-perreira, honesty, inspi...  \n",
       "1  [best, life, love, mistakes, out-of-control, t...  \n",
       "2  [human-nature, humor, infinity, philosophy, sc...  \n",
       "3                                     [books, humor]  \n",
       "4                              [books, simile, soul]  "
      ]
     },
     "execution_count": 5,
     "metadata": {},
     "output_type": "execute_result"
    }
   ],
   "source": [
    "df.head()"
   ]
  },
  {
   "cell_type": "code",
   "execution_count": 6,
   "id": "89d01566-cdbb-4969-b615-6ecf27ed6b53",
   "metadata": {},
   "outputs": [],
   "source": [
    "#initial dataframe inspection"
   ]
  },
  {
   "cell_type": "code",
   "execution_count": 7,
   "id": "cde9689c-37d4-4d0a-b1f1-94b5e85db224",
   "metadata": {},
   "outputs": [
    {
     "name": "stdout",
     "output_type": "stream",
     "text": [
      "--- DataFrame Shape ---\n",
      "(2508, 3)\n",
      "\n",
      "The dataset has 2508 rows and 3 columns.\n"
     ]
    }
   ],
   "source": [
    "print(\"--- DataFrame Shape ---\")\n",
    "print(df.shape)\n",
    "print(f\"\\nThe dataset has {df.shape[0]} rows and {df.shape[1]} columns.\")"
   ]
  },
  {
   "cell_type": "code",
   "execution_count": 8,
   "id": "3960a450-7f26-4ee4-bf84-86e9ade6f11b",
   "metadata": {},
   "outputs": [
    {
     "name": "stdout",
     "output_type": "stream",
     "text": [
      "\n",
      "---Dataframe information---\n",
      "<class 'pandas.core.frame.DataFrame'>\n",
      "RangeIndex: 2508 entries, 0 to 2507\n",
      "Data columns (total 3 columns):\n",
      " #   Column  Non-Null Count  Dtype \n",
      "---  ------  --------------  ----- \n",
      " 0   quote   2508 non-null   object\n",
      " 1   author  2508 non-null   object\n",
      " 2   tags    2508 non-null   object\n",
      "dtypes: object(3)\n",
      "memory usage: 58.9+ KB\n"
     ]
    }
   ],
   "source": [
    "print(\"\\n---Dataframe information---\")\n",
    "df.info()"
   ]
  },
  {
   "cell_type": "code",
   "execution_count": 9,
   "id": "f7868e96-b873-4e33-a3ee-bdf2f87006dd",
   "metadata": {},
   "outputs": [
    {
     "name": "stdout",
     "output_type": "stream",
     "text": [
      "--- Column Names ---\n",
      "Index(['quote', 'author', 'tags'], dtype='object')\n"
     ]
    }
   ],
   "source": [
    "print(\"--- Column Names ---\")\n",
    "print(df.columns)"
   ]
  },
  {
   "cell_type": "code",
   "execution_count": 10,
   "id": "2f8db99f-562d-4270-8ddd-0195b1507be8",
   "metadata": {},
   "outputs": [
    {
     "name": "stdout",
     "output_type": "stream",
     "text": [
      "--- Missing values Count Per Column ---\n",
      "quote     0\n",
      "author    0\n",
      "tags      0\n",
      "dtype: int64\n"
     ]
    }
   ],
   "source": [
    "print(\"--- Missing values Count Per Column ---\")\n",
    "print(df.isnull().sum())"
   ]
  },
  {
   "cell_type": "code",
   "execution_count": 11,
   "id": "37a09bcc-3e3b-4cc4-a820-9f9ea032c509",
   "metadata": {},
   "outputs": [
    {
     "name": "stdout",
     "output_type": "stream",
     "text": [
      "Number of rows with duplicate quotes: 1\n"
     ]
    }
   ],
   "source": [
    "# checking for quote duplicates in the quote column\n",
    "quote_duplicates_count = df.duplicated(subset=['quote']).sum()\n",
    "print(f\"Number of rows with duplicate quotes: {quote_duplicates_count}\")"
   ]
  },
  {
   "cell_type": "code",
   "execution_count": 12,
   "id": "4dce6d11-08d5-48a7-a341-60593242a94d",
   "metadata": {},
   "outputs": [
    {
     "name": "stdout",
     "output_type": "stream",
     "text": [
      "Number of rows with duplicate (quote, author) pairs: 0\n"
     ]
    }
   ],
   "source": [
    "#checking for if author also same or not \n",
    "quote_author_duplicates_count = df.duplicated(subset=['quote', 'author']).sum()\n",
    "print(f\"Number of rows with duplicate (quote, author) pairs: {quote_author_duplicates_count}\")"
   ]
  },
  {
   "cell_type": "code",
   "execution_count": 13,
   "id": "416911e4-80d7-4fc3-8a10-913784e617a8",
   "metadata": {},
   "outputs": [
    {
     "name": "stdout",
     "output_type": "stream",
     "text": [
      "\n",
      "Displaying the duplicated quote:\n"
     ]
    },
    {
     "data": {
      "text/html": [
       "<div>\n",
       "<style scoped>\n",
       "    .dataframe tbody tr th:only-of-type {\n",
       "        vertical-align: middle;\n",
       "    }\n",
       "\n",
       "    .dataframe tbody tr th {\n",
       "        vertical-align: top;\n",
       "    }\n",
       "\n",
       "    .dataframe thead th {\n",
       "        text-align: right;\n",
       "    }\n",
       "</style>\n",
       "<table border=\"1\" class=\"dataframe\">\n",
       "  <thead>\n",
       "    <tr style=\"text-align: right;\">\n",
       "      <th></th>\n",
       "      <th>quote</th>\n",
       "      <th>author</th>\n",
       "      <th>tags</th>\n",
       "    </tr>\n",
       "  </thead>\n",
       "  <tbody>\n",
       "    <tr>\n",
       "      <th>947</th>\n",
       "      <td>“A woman's heart should be so hidden in God th...</td>\n",
       "      <td>Max Lucado</td>\n",
       "      <td>[inspirational, love]</td>\n",
       "    </tr>\n",
       "    <tr>\n",
       "      <th>1922</th>\n",
       "      <td>“A woman's heart should be so hidden in God th...</td>\n",
       "      <td>Maya Angelou</td>\n",
       "      <td>[inspirational]</td>\n",
       "    </tr>\n",
       "  </tbody>\n",
       "</table>\n",
       "</div>"
      ],
      "text/plain": [
       "                                                  quote        author  \\\n",
       "947   “A woman's heart should be so hidden in God th...    Max Lucado   \n",
       "1922  “A woman's heart should be so hidden in God th...  Maya Angelou   \n",
       "\n",
       "                       tags  \n",
       "947   [inspirational, love]  \n",
       "1922        [inspirational]  "
      ]
     },
     "metadata": {},
     "output_type": "display_data"
    }
   ],
   "source": [
    "#inspecting the duplicate column\n",
    "if quote_duplicates_count > 0:\n",
    "    print(\"\\nDisplaying the duplicated quote:\")\n",
    "    display(df[df.duplicated(subset=['quote'], keep=False)].sort_values('quote'))\n"
   ]
  },
  {
   "cell_type": "code",
   "execution_count": 14,
   "id": "5062522a-528d-4486-aa7e-6dc1ebe94bd3",
   "metadata": {},
   "outputs": [],
   "source": [
    "# since, found two identical quotes with different authors, this is considered to be a data conflict or an integrity issue.\n",
    "# for the scope of this assignment I am Keeping the first occurrence of the duplicate and drops the rest (clearly documented in README)"
   ]
  },
  {
   "cell_type": "code",
   "execution_count": 15,
   "id": "ef6b50b3-7f52-4180-8333-e76c7451a82d",
   "metadata": {},
   "outputs": [
    {
     "name": "stdout",
     "output_type": "stream",
     "text": [
      "Original number of rows: 2508\n",
      "Number of rows after removing duplicate quotes: 2507\n"
     ]
    }
   ],
   "source": [
    "# removing duplicates and data cleaning\n",
    "\n",
    "df_cleaned = df.drop_duplicates(subset=['quote'], keep ='first').reset_index(drop=True)\n",
    "print(f\"Original number of rows: {len(df)}\")\n",
    "print(f\"Number of rows after removing duplicate quotes: {len(df_cleaned)}\")"
   ]
  },
  {
   "cell_type": "code",
   "execution_count": 16,
   "id": "b76af5d3-c8ae-4dd0-bdec-13c6843a53e3",
   "metadata": {},
   "outputs": [],
   "source": [
    "#analyzing author distribution"
   ]
  },
  {
   "cell_type": "code",
   "execution_count": 17,
   "id": "b9a2dd31-0946-4a77-b665-cef20a9d49a4",
   "metadata": {},
   "outputs": [
    {
     "name": "stdout",
     "output_type": "stream",
     "text": [
      "Analyzing Author Distribution\n",
      "\n",
      "Top 10 most frequent authors:\n",
      "author\n",
      "Cassandra Clare,    99\n",
      "J.K. Rowling,       74\n",
      "John Green,         53\n",
      "Roy T. Bennett,     46\n",
      "Mark Twain          42\n",
      "Albert Einstein     35\n",
      "Suzanne Collins,    34\n",
      "Nicholas Sparks,    32\n",
      "Oscar Wilde,        30\n",
      "Oscar Wilde         30\n",
      "Name: count, dtype: int64\n"
     ]
    }
   ],
   "source": [
    "print(\"Analyzing Author Distribution\")\n",
    "author_counts = df_cleaned['author'].value_counts()\n",
    "\n",
    "print(\"\\nTop 10 most frequent authors:\")\n",
    "print(author_counts.head(10))"
   ]
  },
  {
   "cell_type": "code",
   "execution_count": 18,
   "id": "52df0d68-453c-462e-99f9-0955dfeb6db5",
   "metadata": {},
   "outputs": [],
   "source": [
    "# since \"Oscar Wilde\" and \"Oscar Wilde,\" are treated as two different authors because of the 'comma', the data needed to be normalized\n",
    "# normalizing the author column by removing leading/trailing whitespace and unwanted punctuation."
   ]
  },
  {
   "cell_type": "code",
   "execution_count": 19,
   "id": "b5d92666-48e6-4c3d-a680-fcc775b17127",
   "metadata": {
    "scrolled": true
   },
   "outputs": [
    {
     "name": "stdout",
     "output_type": "stream",
     "text": [
      "Unique author names before cleaning (sample):\n",
      "['Oscar Wilde' 'Marilyn Monroe' 'Albert Einstein' 'Frank Zappa'\n",
      " 'Marcus Tullius Cicero' 'Bernard M. Baruch' 'William W. Purkey'\n",
      " 'Dr. Seuss' 'Mae West' 'Mahatma Gandhi' 'Robert Frost' 'J.K. Rowling,'\n",
      " 'Albert Camus' 'Mark Twain' 'C.S. Lewis,' 'Elbert Hubbard'\n",
      " 'Martin Luther King Jr.,' 'Friedrich Nietzsche,' 'Stephen Chbosky,'\n",
      " 'Oscar Wilde,']\n"
     ]
    }
   ],
   "source": [
    "print(\"Unique author names before cleaning (sample):\")\n",
    "print(df_cleaned['author'].unique()[:20])"
   ]
  },
  {
   "cell_type": "code",
   "execution_count": 20,
   "id": "0e2f6df4-def1-4053-8d75-672af8576ba2",
   "metadata": {
    "scrolled": true
   },
   "outputs": [
    {
     "name": "stdout",
     "output_type": "stream",
     "text": [
      "\n",
      "--- Author names have been cleaned and normalized ---\n",
      "\n",
      "Unique author names after cleaning (sample):\n",
      "['Oscar Wilde' 'Marilyn Monroe' 'Albert Einstein' 'Frank Zappa'\n",
      " 'Marcus Tullius Cicero' 'Bernard M. Baruch' 'William W. Purkey'\n",
      " 'Dr. Seuss' 'Mae West' 'Mahatma Gandhi' 'Robert Frost' 'J.K. Rowling'\n",
      " 'Albert Camus' 'Mark Twain' 'C.S. Lewis' 'Elbert Hubbard'\n",
      " 'Martin Luther King Jr' 'Friedrich Nietzsche' 'Stephen Chbosky'\n",
      " 'Ralph Waldo Emerson']\n"
     ]
    }
   ],
   "source": [
    "df_cleaned['author'] = df_cleaned['author'].str.rstrip('.,').str.strip()\n",
    "\n",
    "print(\"\\n--- Author names have been cleaned and normalized ---\\n\")\n",
    "print(\"Unique author names after cleaning (sample):\")\n",
    "print(df_cleaned['author'].unique()[:20])"
   ]
  },
  {
   "cell_type": "code",
   "execution_count": 21,
   "id": "207300d2-7b6c-4e22-8d45-f848ed842c18",
   "metadata": {
    "scrolled": true
   },
   "outputs": [
    {
     "name": "stdout",
     "output_type": "stream",
     "text": [
      "Re-analyzing Author Distribution after cleaning...\n",
      "\n",
      "Top 10 most frequent authors:\n",
      "author\n",
      "Cassandra Clare    104\n",
      "J.K. Rowling        78\n",
      "Oscar Wilde         60\n",
      "John Green          57\n",
      "Roy T. Bennett      55\n",
      "Mark Twain          46\n",
      "Nicholas Sparks     37\n",
      "Albert Einstein     36\n",
      "Suzanne Collins     34\n",
      "C.S. Lewis          30\n",
      "Name: count, dtype: int64\n"
     ]
    },
    {
     "data": {
      "image/png": "[encoded data removed]",
      "text/plain": [
       "<Figure size 1200x800 with 1 Axes>"
      ]
     },
     "metadata": {},
     "output_type": "display_data"
    }
   ],
   "source": [
    "import matplotlib.pyplot as plt\n",
    "import seaborn as sns\n",
    "print(\"Re-analyzing Author Distribution after cleaning...\")\n",
    "author_counts = df_cleaned['author'].value_counts()\n",
    "print(\"\\nTop 10 most frequent authors:\")\n",
    "print(author_counts.head(10))\n",
    "\n",
    "# Plotting the top 20 authors\n",
    "plt.figure(figsize=(12, 8))\n",
    "author_counts.head(20).plot(kind='barh', color=sns.color_palette(\"viridis\", 20))\n",
    "plt.title('Top 20 Authors by Number of Quotes (Corrected)')\n",
    "plt.xlabel('Number of Quotes')\n",
    "plt.ylabel('Author')\n",
    "plt.gca().invert_yaxis()\n",
    "plt.show()"
   ]
  },
  {
   "cell_type": "code",
   "execution_count": 22,
   "id": "49f66dbf-e3d1-4681-83f1-ca2917b23c6e",
   "metadata": {},
   "outputs": [],
   "source": [
    "#analyzing tag distribution"
   ]
  },
  {
   "cell_type": "code",
   "execution_count": 23,
   "id": "b096c230-3228-4ea4-92d8-b7547d548a38",
   "metadata": {},
   "outputs": [
    {
     "name": "stdout",
     "output_type": "stream",
     "text": [
      "Analyzing Tag Distribution\n",
      "Total number of tags (including duplicates): 8019\n",
      "\n",
      "Top 10 most frequent tags:\n",
      "tags\n",
      "love                    327\n",
      "inspirational           318\n",
      "life                    295\n",
      "humor                   254\n",
      "books                   141\n",
      "inspiration              87\n",
      "reading                  86\n",
      "happiness                68\n",
      "writing                  67\n",
      "inspirational-quotes     65\n",
      "Name: count, dtype: int64\n"
     ]
    }
   ],
   "source": [
    "print(\"Analyzing Tag Distribution\")\n",
    "tags_series = df_cleaned['tags'].explode()    #since the'tags' column contains lists of strings \n",
    "print(f\"Total number of tags (including duplicates): {len(tags_series)}\")\n",
    "tag_counts = tags_series.value_counts()\n",
    "print(\"\\nTop 10 most frequent tags:\")\n",
    "print(tag_counts.head(10))"
   ]
  },
  {
   "cell_type": "code",
   "execution_count": 24,
   "id": "fe7efb17-b37a-4ad1-8769-4946230339fe",
   "metadata": {},
   "outputs": [],
   "source": [
    "# since tag distribution found same tags have different variants, tags are normalizing using string manipulation and lemmatization"
   ]
  },
  {
   "cell_type": "code",
   "execution_count": 25,
   "id": "9281f49f-c30a-49dd-aed1-2a63210a0b8b",
   "metadata": {},
   "outputs": [
    {
     "name": "stderr",
     "output_type": "stream",
     "text": [
      "[nltk_data] Downloading package punkt to\n",
      "[nltk_data]     C:\\Users\\HP\\AppData\\Roaming\\nltk_data...\n",
      "[nltk_data]   Package punkt is already up-to-date!\n",
      "[nltk_data] Downloading package wordnet to\n",
      "[nltk_data]     C:\\Users\\HP\\AppData\\Roaming\\nltk_data...\n",
      "[nltk_data]   Package wordnet is already up-to-date!\n"
     ]
    },
    {
     "data": {
      "text/plain": [
       "True"
      ]
     },
     "execution_count": 25,
     "metadata": {},
     "output_type": "execute_result"
    }
   ],
   "source": [
    "import nltk\n",
    "nltk.download('punkt')\n",
    "nltk.download('wordnet')"
   ]
  },
  {
   "cell_type": "code",
   "execution_count": 26,
   "id": "b077d503-d6cc-48c5-8e7d-e83cca31c63e",
   "metadata": {
    "scrolled": true
   },
   "outputs": [
    {
     "name": "stdout",
     "output_type": "stream",
     "text": [
      "tags\n",
      "love                      327\n",
      "inspirational             319\n",
      "life                      295\n",
      "humor                     254\n",
      "books                     141\n",
      "inspiration                87\n",
      "reading                    86\n",
      "happiness                  68\n",
      "writing                    67\n",
      "inspirational-quotes       65\n",
      "friendship                 63\n",
      "wisdom                     62\n",
      "truth                      61\n",
      "philosophy                 60\n",
      "life-quotes                48\n",
      "living                     48\n",
      "optimism                   48\n",
      "death                      47\n",
      "hope                       46\n",
      "poetry                     45\n",
      "romance                    45\n",
      "positive-affirmation       41\n",
      "positive-thinking          41\n",
      "life-lessons               40\n",
      "women                      40\n",
      "optimistic                 40\n",
      "positive                   40\n",
      "positive-life              40\n",
      "inspire                    38\n",
      "inspiring                  38\n",
      "courage                    37\n",
      "life-and-living            36\n",
      "pain                       34\n",
      "funny                      34\n",
      "inspirational-life         34\n",
      "change                     34\n",
      "relationships              33\n",
      "religion                   32\n",
      "fear                       31\n",
      "dreams                     31\n",
      "music                      31\n",
      "jace-wayland               29\n",
      "friends                    28\n",
      "god                        28\n",
      "strength                   28\n",
      "inspirational-attitude     28\n",
      "freedom                    28\n",
      "loneliness                 27\n",
      "motivational               27\n",
      "science                    26\n",
      "Name: count, dtype: int64\n"
     ]
    }
   ],
   "source": [
    "# Get the full list of tag counts\n",
    "all_tags = df.explode('tags')\n",
    "tag_counts = all_tags['tags'].value_counts()\n",
    "print(tag_counts.head(50))"
   ]
  },
  {
   "cell_type": "code",
   "execution_count": 27,
   "id": "f0055016-9f92-45d8-b2dc-714802de1dfa",
   "metadata": {},
   "outputs": [],
   "source": [
    "#creating a tag cleaning function \n",
    "\n",
    "from nltk.stem import WordNetLemmatizer\n",
    "from nltk.tokenize import word_tokenize\n",
    "\n",
    "lemmatizer = WordNetLemmatizer()\n",
    "\n",
    "def clean_tags(tag_list):\n",
    "    if not isinstance(tag_list, list):\n",
    "        return [] \n",
    "\n",
    "    cleaned_tags = set() # set used here to automatically handle with duplicates\n",
    "    for tag in tag_list:\n",
    "        tag = tag.lower()\n",
    "        tag = tag.replace('-', ' ')\n",
    "        lemmatized_words = [lemmatizer.lemmatize(word) for word in word_tokenize(tag)]  #lemmatizing words to the base form\n",
    "        \n",
    "        if tag.endswith('-quotes'): #since quotes is a common suffix \n",
    "            tag = tag.replace('-quotes', '')\n",
    "        tag = tag.replace('-', '')\n",
    "        tag = lemmatizer.lemmatize(tag, pos='n') \n",
    "\n",
    "        final_tags = set()\n",
    "        for t in tag_list:\n",
    "            \n",
    "            clean_t = t.lower().replace('-', ' ')\n",
    "            if clean_t.endswith('s'):\n",
    "                 \n",
    "                 clean_t = clean_t[:-1]\n",
    "            \n",
    "            if 'inspiration' in clean_t:\n",
    "                clean_t = 'inspiration'\n",
    "            if 'life lesson' in clean_t:\n",
    "                clean_t = 'life-lessons'\n",
    "            final_tags.add(clean_t.strip())\n",
    "\n",
    "    return list(final_tags) "
   ]
  },
  {
   "cell_type": "code",
   "execution_count": 28,
   "id": "147cf3a7-5b34-42d8-ae67-0fa991716333",
   "metadata": {},
   "outputs": [
    {
     "name": "stdout",
     "output_type": "stream",
     "text": [
      "--- Checking the first 10 rows after applying the new function ---\n",
      "                                                tags tags_cleaned\n",
      "0  [be-yourself, gilbert-perreira, honesty, inspi...           []\n",
      "1  [best, life, love, mistakes, out-of-control, t...           []\n",
      "2  [human-nature, humor, infinity, philosophy, sc...           []\n",
      "3                                     [books, humor]           []\n",
      "4                              [books, simile, soul]           []\n",
      "5  [ataraxy, be-yourself, confidence, fitting-in,...           []\n",
      "6  [dance, heaven, hurt, inspirational, life, lov...           []\n",
      "7                     [dreams, love, reality, sleep]           []\n",
      "8                                      [humor, life]           []\n",
      "9  [action, change, inspirational, philosophy, wish]           []\n"
     ]
    }
   ],
   "source": [
    "def get_cleaned_tags(tag_list):\n",
    "    if not isinstance(tag_list, list):\n",
    "        return []\n",
    "\n",
    "    tag_map = {\n",
    "        'inspirational': 'inspiration', 'inspirational-quotes': 'inspiration',\n",
    "        'inspirational-life': 'inspiration', 'inspirational-attitude': 'inspiration',\n",
    "        'inspire': 'inspiration', 'inspiring': 'inspiration', 'motivational': 'inspiration',\n",
    "        \n",
    "        'life-quotes': 'life', 'life-lessons': 'life', 'life-and-living': 'life',\n",
    "        'living': 'life',\n",
    "        \n",
    "        'reading': 'books',\n",
    "        \n",
    "        'funny': 'humor',\n",
    "\n",
    "        'optimistic': 'optimism', 'positive-thinking': 'optimism',\n",
    "        'positive-affirmation': 'optimism', 'positive-life': 'optimism', 'positive': 'optimism',\n",
    "        \n",
    "        'friends': 'friendship',\n",
    "        \n",
    "        'jace-wayland': 'jace wayland'\n",
    "    }  #created from the result obtained in cell no.29\n",
    "    \n",
    "    cleaned_tags = set() # since set will automatically deals with duplicates\n",
    "    for tag in tag_list:\n",
    "        t = tag.lower()\n",
    "        if t in tag_map:\n",
    "            cleaned_tags.add(tag_map[t])\n",
    "        else:\n",
    "            t = t.replace('-', ' ')\n",
    "            cleaned_tags.add(t)\n",
    "    return list(cleaned_tags)\n",
    "\n",
    "df['tags_cleaned'] = df['tags'].apply(get_cleaned_tags)\n",
    "print(\"--- Checking the first 10 rows after applying the new function ---\")\n",
    "print(df[['tags', 'tags_cleaned']].head(10))"
   ]
  },
  {
   "cell_type": "code",
   "execution_count": 29,
   "id": "cc9cdb0b-9f08-43aa-989c-0badb5098065",
   "metadata": {},
   "outputs": [
    {
     "name": "stdout",
     "output_type": "stream",
     "text": [
      "\n",
      "--- Top 20 Most Frequent Tags AFTER Cleaning (Corrected) ---\n",
      "Series([], Name: count, dtype: int64)\n"
     ]
    }
   ],
   "source": [
    "# Re-run this cell\n",
    "all_tags_cleaned = df.explode('tags_cleaned')\n",
    "cleaned_tag_counts = all_tags_cleaned['tags_cleaned'].value_counts()\n",
    "\n",
    "print(\"\\n--- Top 20 Most Frequent Tags AFTER Cleaning (Corrected) ---\")\n",
    "print(cleaned_tag_counts.head(20))"
   ]
  },
  {
   "cell_type": "code",
   "execution_count": 30,
   "id": "f3efcfc1-70aa-4ebe-8cbd-7a21c37570cc",
   "metadata": {},
   "outputs": [],
   "source": [
    "# debugging and fixing data type"
   ]
  },
  {
   "cell_type": "code",
   "execution_count": 31,
   "id": "0482f53d-0f3f-4ad9-9a4b-9504de1c0deb",
   "metadata": {},
   "outputs": [
    {
     "name": "stdout",
     "output_type": "stream",
     "text": [
      "The data type of the item is: <class 'numpy.ndarray'>\n",
      "The item itself looks like this: ['be-yourself' 'gilbert-perreira' 'honesty' 'inspirational'\n",
      " 'misattributed-oscar-wilde' 'quote-investigator']\n"
     ]
    }
   ],
   "source": [
    "# Check the data type of the first item in the 'tags' column\n",
    "first_item = df['tags'].iloc[0]\n",
    "print(f\"The data type of the item is: {type(first_item)}\")\n",
    "print(f\"The item itself looks like this: {first_item}\")"
   ]
  },
  {
   "cell_type": "code",
   "execution_count": 32,
   "id": "15d7b171-57bc-4b6f-acf8-059e1fe90f68",
   "metadata": {},
   "outputs": [
    {
     "name": "stdout",
     "output_type": "stream",
     "text": [
      "After fixing, the data type is now: <class 'list'>\n"
     ]
    }
   ],
   "source": [
    "#converting the column from numpy array to list\n",
    "import numpy as np\n",
    "df['tags'] = df['tags'].apply(lambda x: x.tolist() if isinstance(x, np.ndarray) else x)\n",
    "\n",
    "#again checking\n",
    "fixed_first_item = df['tags'].iloc[0]\n",
    "print(f\"After fixing, the data type is now: {type(fixed_first_item)}\")"
   ]
  },
  {
   "cell_type": "code",
   "execution_count": 33,
   "id": "8740408a-229b-4082-a2e3-4e143474a501",
   "metadata": {},
   "outputs": [],
   "source": [
    "def get_cleaned_tags(tag_list):\n",
    "    if not isinstance(tag_list, list):\n",
    "        return []\n",
    "\n",
    "    tag_map = {\n",
    "        'inspirational-quotes': 'inspiration',\n",
    "        'inspirational': 'inspiration',\n",
    "        'life-lessons': 'life-lessons',\n",
    "        'life-quotes': 'life',\n",
    "        'reading': 'books'\n",
    "    }\n",
    "    \n",
    "    cleaned_tags = set()\n",
    "    \n",
    "    for tag in tag_list:\n",
    "        t = tag.lower()\n",
    "        if t in tag_map:\n",
    "            cleaned_tags.add(tag_map[t])\n",
    "        else:\n",
    "            t = t.replace('-', ' ')\n",
    "            cleaned_tags.add(t)\n",
    "            \n",
    "    return list(cleaned_tags)"
   ]
  },
  {
   "cell_type": "code",
   "execution_count": 34,
   "id": "9166ef39-428d-4526-8e51-e6a7613d6213",
   "metadata": {},
   "outputs": [
    {
     "name": "stdout",
     "output_type": "stream",
     "text": [
      "DataFrame head with corrected tags_cleaned column \n",
      "                                                tags  \\\n",
      "0  [be-yourself, gilbert-perreira, honesty, inspi...   \n",
      "1  [best, life, love, mistakes, out-of-control, t...   \n",
      "2  [human-nature, humor, infinity, philosophy, sc...   \n",
      "3                                     [books, humor]   \n",
      "4                              [books, simile, soul]   \n",
      "\n",
      "                                        tags_cleaned  \n",
      "0  [be yourself, gilbert perreira, honesty, quote...  \n",
      "1  [truth, worst, mistakes, best, life, out of co...  \n",
      "2  [stupidity, philosophy, universe, science, inf...  \n",
      "3                                     [humor, books]  \n",
      "4                              [soul, simile, books]  \n",
      "\n",
      "---Top 20 Most Frequent Tags AFTER Fixing and Cleaning ---\n",
      "tags_cleaned\n",
      "inspiration             360\n",
      "love                    327\n",
      "life                    295\n",
      "humor                   254\n",
      "books                   167\n",
      "happiness                68\n",
      "writing                  67\n",
      "friendship               63\n",
      "wisdom                   62\n",
      "truth                    61\n",
      "philosophy               60\n",
      "optimism                 48\n",
      "living                   48\n",
      "death                    47\n",
      "hope                     46\n",
      "romance                  45\n",
      "poetry                   45\n",
      "positive thinking        41\n",
      "positive affirmation     41\n",
      "optimistic               40\n",
      "Name: count, dtype: int64\n"
     ]
    }
   ],
   "source": [
    "\n",
    "#applying the cleaning function to the new corrected data\n",
    "df['tags_cleaned'] = df['tags'].apply(get_cleaned_tags)\n",
    "all_tags_cleaned = df.explode('tags_cleaned')\n",
    "cleaned_tag_counts = all_tags_cleaned['tags_cleaned'].value_counts()\n",
    "\n",
    "print(\"DataFrame head with corrected tags_cleaned column \")\n",
    "print(df[['tags', 'tags_cleaned']].head())\n",
    "\n",
    "print(\"\\n---Top 20 Most Frequent Tags AFTER Fixing and Cleaning ---\")\n",
    "print(cleaned_tag_counts.head(20))"
   ]
  },
  {
   "cell_type": "code",
   "execution_count": 35,
   "id": "d0ae290f-de20-496b-91b3-1f97462b4161",
   "metadata": {},
   "outputs": [],
   "source": [
    "# Visualizing Tag Distribution"
   ]
  },
  {
   "cell_type": "code",
   "execution_count": 36,
   "id": "0f58e1db-c715-4011-b668-83e6391994fa",
   "metadata": {},
   "outputs": [
    {
     "name": "stdout",
     "output_type": "stream",
     "text": [
      "\n",
      "--- Analyzing Cleaned Tag Distribution ---\n"
     ]
    },
    {
     "name": "stderr",
     "output_type": "stream",
     "text": [
      "C:\\Users\\HP\\AppData\\Local\\Temp\\ipykernel_44364\\5497651.py:9: FutureWarning: \n",
      "\n",
      "Passing `palette` without assigning `hue` is deprecated and will be removed in v0.14.0. Assign the `y` variable to `hue` and set `legend=False` for the same effect.\n",
      "\n",
      "  sns.barplot(x=top_tags.values, y=top_tags.index, palette=\"mako\")\n"
     ]
    },
    {
     "data": {
      "image/png": "[encoded data removed]",
      "text/plain": [
       "<Figure size 1200x1000 with 1 Axes>"
      ]
     },
     "metadata": {},
     "output_type": "display_data"
    }
   ],
   "source": [
    "print(\"\\n--- Analyzing Cleaned Tag Distribution ---\")\n",
    "tags_df = df.explode('tags_cleaned')\n",
    "tag_counts = tags_df['tags_cleaned'].value_counts()\n",
    "top_n = 20\n",
    "top_tags = tag_counts.head(top_n)\n",
    "\n",
    "# Create the plot\n",
    "plt.figure(figsize=(12, 10)) \n",
    "sns.barplot(x=top_tags.values, y=top_tags.index, palette=\"mako\")\n",
    "\n",
    "plt.title(f'Top {top_n} Most Frequent Tags (After Cleaning)', fontsize=16)\n",
    "plt.xlabel('Frequency', fontsize=12)\n",
    "plt.ylabel('Tag', fontsize=12)\n",
    "plt.show()"
   ]
  },
  {
   "cell_type": "code",
   "execution_count": 37,
   "id": "69aa7661-6af1-4bbf-81b4-663d215f4912",
   "metadata": {},
   "outputs": [],
   "source": [
    "# Phase 2- Model Fine tuning"
   ]
  },
  {
   "cell_type": "code",
   "execution_count": 38,
   "id": "2f32eaa8-00f8-4c88-af17-c641ed5ec93c",
   "metadata": {},
   "outputs": [
    {
     "name": "stdout",
     "output_type": "stream",
     "text": [
      "--- Example of a 'combined_text' entry ---\n",
      "Quote: \"“Be yourself; everyone else is already taken.”\" Author: Oscar Wilde. Tags: be yourself, gilbert perreira, honesty, quote investigator, misattributed oscar wilde, inspiration\n"
     ]
    }
   ],
   "source": [
    "# preparing document for embedding by combining the quote, the author, and the cleaned tags\n",
    "def create_combined_text(row):\n",
    "    tags_str = ', '.join(row['tags_cleaned'])\n",
    "    return f\"Quote: \\\"{row['quote']}\\\" Author: {row['author']}. Tags: {tags_str}\"\n",
    "\n",
    "df['combined_text'] = df.apply(create_combined_text, axis=1)\n",
    "\n",
    "#an example\n",
    "print(\"--- Example of a 'combined_text' entry ---\")\n",
    "print(df['combined_text'].iloc[0])\n"
   ]
  },
  {
   "cell_type": "code",
   "execution_count": 39,
   "id": "ff3d96b1-c016-429d-824d-044abc27c067",
   "metadata": {},
   "outputs": [
    {
     "name": "stdout",
     "output_type": "stream",
     "text": [
      "DataFrame has been successfully saved to 'processed_quotes.csv'\n"
     ]
    }
   ],
   "source": [
    "if 'combined_text' not in df.columns:\n",
    "    def create_combined_text(row):\n",
    "        tags_str = ', '.join(row['tags_cleaned'])\n",
    "        return f\"Quote: \\\"{row['quote']}\\\" Author: {row['author']}. Tags: {tags_str}\"\n",
    "    df['combined_text'] = df.apply(create_combined_text, axis=1)\n",
    "df.to_csv('processed_quotes.csv', index=False)\n",
    "\n",
    "print(\"DataFrame has been successfully saved to 'processed_quotes.csv'\")"
   ]
  },
  {
   "cell_type": "code",
   "execution_count": 40,
   "id": "392a6fd5-1322-4a49-a894-75b6f31d8683",
   "metadata": {},
   "outputs": [],
   "source": [
    "# creating training examples"
   ]
  },
  {
   "cell_type": "code",
   "execution_count": 41,
   "id": "5df72cb7-98fd-4112-ab54-e5fb429e3ca6",
   "metadata": {},
   "outputs": [],
   "source": [
    "# for constructive learning , using a specific loss function called MultipleNegativesRankingLoss from the sentence-transformers library"
   ]
  },
  {
   "cell_type": "code",
   "execution_count": 42,
   "id": "a1c34ee9-2503-4226-bcdf-6414fc706f2b",
   "metadata": {},
   "outputs": [
    {
     "name": "stdout",
     "output_type": "stream",
     "text": [
      "Created 2508 training examples.\n"
     ]
    }
   ],
   "source": [
    "from sentence_transformers import InputExample\n",
    "\n",
    "# Creating a list of training examples\n",
    "train_examples = []\n",
    "for index, row in df.iterrows():\n",
    "    train_examples.append(InputExample(texts=[row['quote'], row['combined_text']]))\n",
    "\n",
    "print(f\"Created {len(train_examples)} training examples.\")"
   ]
  },
  {
   "cell_type": "code",
   "execution_count": 43,
   "id": "f671c18e-0424-43c0-8045-d4a54bb20359",
   "metadata": {},
   "outputs": [],
   "source": [
    "#configure and run fine tuning "
   ]
  },
  {
   "cell_type": "code",
   "execution_count": 44,
   "id": "189c8894-f7c5-4b85-b935-a088634c9f7b",
   "metadata": {},
   "outputs": [
    {
     "data": {
      "application/vnd.jupyter.widget-view+json": {
       "model_id": "ff531465d098423b8b9568f56e550762",
       "version_major": 2,
       "version_minor": 0
      },
      "text/plain": [
       "Computing widget examples:   0%|          | 0/1 [00:00<?, ?example/s]"
      ]
     },
     "metadata": {},
     "output_type": "display_data"
    },
    {
     "data": {
      "text/html": [
       "\n",
       "    <div>\n",
       "      \n",
       "      <progress value='157' max='157' style='width:300px; height:20px; vertical-align: middle;'></progress>\n",
       "      [157/157 07:57, Epoch 1/1]\n",
       "    </div>\n",
       "    <table border=\"1\" class=\"dataframe\">\n",
       "  <thead>\n",
       " <tr style=\"text-align: left;\">\n",
       "      <th>Step</th>\n",
       "      <th>Training Loss</th>\n",
       "    </tr>\n",
       "  </thead>\n",
       "  <tbody>\n",
       "  </tbody>\n",
       "</table><p>"
      ],
      "text/plain": [
       "<IPython.core.display.HTML object>"
      ]
     },
     "metadata": {},
     "output_type": "display_data"
    },
    {
     "name": "stdout",
     "output_type": "stream",
     "text": [
      "\n",
      "Model fine-tuning complete. The trained model is saved in: './fine_tuned_quote_model'\n"
     ]
    }
   ],
   "source": [
    "from sentence_transformers import SentenceTransformer, losses\n",
    "from torch.utils.data import DataLoader\n",
    "\n",
    "#model selected all-MiniLM-L6-v2\n",
    "model_name = 'all-MiniLM-L6-v2'\n",
    "model = SentenceTransformer(model_name)\n",
    "train_dataloader = DataLoader(train_examples, shuffle=True, batch_size=16)  #defining dataloader, this will handles batching of the data\n",
    "\n",
    "train_loss = losses.MultipleNegativesRankingLoss(model=model)  #defining lose function\n",
    "\n",
    "#specifying parameters\n",
    "num_epochs = 1\n",
    "warmup_steps = int(len(train_dataloader) * num_epochs * 0.1) \n",
    "\n",
    "#fine tuning the model\n",
    "model.fit(train_objectives=[(train_dataloader, train_loss)],\n",
    "          epochs=num_epochs,\n",
    "          warmup_steps=warmup_steps,\n",
    "          show_progress_bar=True)\n",
    "\n",
    "fine_tuned_model_path = './fine_tuned_quote_model'\n",
    "model.save(fine_tuned_model_path)\n",
    "\n",
    "print(f\"\\nModel fine-tuning complete. The trained model is saved in: '{fine_tuned_model_path}'\")"
   ]
  },
  {
   "cell_type": "code",
   "execution_count": 45,
   "id": "d806d81a-7796-4978-ae23-ea8ffc7f851d",
   "metadata": {},
   "outputs": [],
   "source": [
    "# Phase3 - Building the RAG Pipeline Engine\n",
    "# key assets—the cleaned data (df) and the fine-tuned model\n",
    "# two process - indexing and retrieval"
   ]
  },
  {
   "cell_type": "code",
   "execution_count": 46,
   "id": "dcf44009-358b-4d80-a482-aec2ae588f51",
   "metadata": {},
   "outputs": [],
   "source": [
    "# loading fine tuned model and data"
   ]
  },
  {
   "cell_type": "code",
   "execution_count": 47,
   "id": "cf36c712-ebee-4e8b-8d21-24b9ef14e783",
   "metadata": {},
   "outputs": [
    {
     "name": "stdout",
     "output_type": "stream",
     "text": [
      "Model and data loaded successfully.\n"
     ]
    }
   ],
   "source": [
    "import pandas as pd\n",
    "from sentence_transformers import SentenceTransformer\n",
    "\n",
    "model_path = './fine_tuned_quote_model'\n",
    "retriever_model = SentenceTransformer(model_path)\n",
    "df = pd.read_csv('processed_quotes.csv')\n",
    "\n",
    "import ast\n",
    "df['tags_cleaned'] = df['tags_cleaned'].apply(ast.literal_eval)\n",
    "\n",
    "print(\"Model and data loaded successfully.\")"
   ]
  },
  {
   "cell_type": "code",
   "execution_count": 48,
   "id": "c4c2aa50-f709-4efb-8a03-c378c679aa39",
   "metadata": {},
   "outputs": [],
   "source": [
    "#create the embeddings for the entire dataset and building the FAISS index."
   ]
  },
  {
   "cell_type": "code",
   "execution_count": 49,
   "id": "0df0e60a-48ab-4c10-8760-f9c2576208c8",
   "metadata": {},
   "outputs": [
    {
     "name": "stdout",
     "output_type": "stream",
     "text": [
      "Encoding 2508 documents with the fine-tuned model...\n"
     ]
    },
    {
     "data": {
      "application/vnd.jupyter.widget-view+json": {
       "model_id": "5b541bba599f46fe9418f6611afdc0b4",
       "version_major": 2,
       "version_minor": 0
      },
      "text/plain": [
       "Batches:   0%|          | 0/79 [00:00<?, ?it/s]"
      ]
     },
     "metadata": {},
     "output_type": "display_data"
    },
    {
     "name": "stdout",
     "output_type": "stream",
     "text": [
      "FAISS index created successfully.\n",
      "Number of documents in index: 2508\n",
      "Dimension of vectors: 384\n",
      "\n",
      "FAISS index and processed data have been saved.\n"
     ]
    }
   ],
   "source": [
    "import faiss\n",
    "import numpy as np\n",
    "\n",
    "corpus = df['combined_text'].tolist()\n",
    "\n",
    "print(f\"Encoding {len(corpus)} documents with the fine-tuned model...\")\n",
    "corpus_embeddings = retriever_model.encode(corpus, convert_to_numpy=True, show_progress_bar=True)\n",
    "\n",
    "#creating the FAISS index\n",
    "embedding_dim = corpus_embeddings.shape[1]  \n",
    "index = faiss.IndexFlatL2(embedding_dim)    \n",
    "\n",
    "index.add(corpus_embeddings)\n",
    "\n",
    "print(f\"FAISS index created successfully.\")\n",
    "print(f\"Number of documents in index: {index.ntotal}\")\n",
    "print(f\"Dimension of vectors: {index.d}\")\n",
    "\n",
    "faiss.write_index(index, 'quotes.index')\n",
    "print(\"\\nFAISS index and processed data have been saved.\")"
   ]
  },
  {
   "cell_type": "code",
   "execution_count": 50,
   "id": "02b8da33-8b7a-4911-a8cd-cb371539fea0",
   "metadata": {},
   "outputs": [],
   "source": [
    "#Phase4 - RAG Evaluation"
   ]
  },
  {
   "cell_type": "code",
   "execution_count": 51,
   "id": "4e55bc3a-5e17-4eaf-9252-325b24626478",
   "metadata": {},
   "outputs": [],
   "source": [
    "# building the RAG \"response\" function"
   ]
  },
  {
   "cell_type": "code",
   "execution_count": 54,
   "id": "6d82e125-4168-439c-9a97-83d4a3bc21db",
   "metadata": {
    "scrolled": true
   },
   "outputs": [
    {
     "name": "stdout",
     "output_type": "stream",
     "text": [
      "Loading local resources (retriever, index, data)...\n",
      "Resources loaded successfully.\n",
      "Initializing Groq client with Llama 3 model...\n",
      "Groq client initialized successfully.\n",
      "\n",
      "--- Running a test query with the Groq API ---\n",
      "\n",
      "QUERY: Motivational quotes tagged 'accomplishment'\n",
      "\n",
      "==================== GENERATED ANSWER (from Groq/Llama 3) ====================\n",
      "Based on the provided context, here is a concise summary:\n",
      "\n",
      "The quotes in this context relate to the themes of individuality, desire, gratitude, success, and improvement. They emphasize the importance of being oneself, setting goals, and making a positive impact.\n",
      "\n",
      "Here are the most relevant quotes tagged \"accomplishment\" to answer the query:\n",
      "\n",
      "1. \"To be yourself in a world that is constantly trying to make you something else is the greatest accomplishment.\" - Ralph Waldo Emerson\n",
      "2. \"Success is not how high you have climbed, but how you make a positive difference to the world.\" - Roy T. Bennett.\n",
      "\n",
      "These quotes highlight the importance of being true to oneself and making a positive impact, which can be considered as a form of accomplishment.\n",
      "\n",
      "==================== RETRIEVED CONTEXTS ====================\n",
      "Context 1:\n",
      "Quote: \"“To be yourself in a world that is constantly trying to make you something else is the greatest accomplishment.”\" Author: Ralph Waldo Emerson. Tags: conformity, be yourself, individuality, accomplishment\n",
      "\n",
      "Context 2:\n",
      "Quote: \"“The starting point of all achievement is DESIRE. Keep this constantly in mind. Weak desire brings weak results, just as a small fire makes a small amount of heat.”\" Author: Napoleon Hill,. Tags: inspiration\n",
      "\n",
      "Context 3:\n",
      "Quote: \"“Be grateful for what you already have while you pursue your goals. If you arenâ€™t grateful for what you already have, what makes you think you would be happy with more.”\" Author: Roy T. Bennett,. Tags: positive life, positive affirmation, leader, living, optimism, leadership, life and living, happiness, inspirational attitude, goals, gratitude, inspiring, motivation, goal, life-lessons, positive thinking, motivational, inspiration, inspirational life, life, optimistic, inspire, positive\n",
      "\n",
      "Context 4:\n",
      "Quote: \"“Success is not how high you have climbed, but how you make a positive difference to the world.”\" Author: Roy T. Bennett,. Tags: positive life, positive affirmation, leader, living, optimism, leadership, life and living, success, inspirational attitude, inspiring, motivation, life-lessons, positive thinking, motivational, inspiration, inspirational life, life, optimistic, inspire, positive\n",
      "\n",
      "Context 5:\n",
      "Quote: \"“Make improvements, not excuses. Seek respect, not attention.”\" Author: Roy T. Bennett,. Tags: positive life, positive affirmation, life philosophy, living, optimism, respect, life and living, inspirational attitude, inspiring, life-lessons, positive thinking, improvement, inspiration, inspirational life, life, inspirational quote, optimistic, excuse, inspire, positive\n",
      "\n"
     ]
    }
   ],
   "source": [
    "import os\n",
    "import pandas as pd\n",
    "import faiss\n",
    "from sentence_transformers import SentenceTransformer\n",
    "import numpy as np\n",
    "from groq import Groq  \n",
    "\n",
    "\n",
    "GROQ_API_KEY = \"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\"\n",
    "\n",
    "if \"YOUR_GROQ_API_KEY_HERE\" in GROQ_API_KEY:\n",
    "    raise ValueError(\"Please replace 'gsk_YOUR_GROQ_API_KEY_HERE' with your actual Groq API key.\")\n",
    "\n",
    "\n",
    "print(\"Loading local resources (retriever, index, data)...\")\n",
    "retriever_model = SentenceTransformer('./fine_tuned_quote_model')\n",
    "index = faiss.read_index('quotes.index')\n",
    "df = pd.read_csv('processed_quotes.csv').fillna('')\n",
    "corpus = df['combined_text'].tolist()\n",
    "print(\"Resources loaded successfully.\")\n",
    "\n",
    "#initializing the grok llm client\n",
    "print(\"Initializing Groq client with Llama 3 model...\")\n",
    "try:\n",
    "    client = Groq(\n",
    "        api_key=GROQ_API_KEY,\n",
    "    )\n",
    "    print(\"Groq client initialized successfully.\")\n",
    "except Exception as e:\n",
    "    print(f\"Failed to initialize Groq client: {e}\")\n",
    "    exit()\n",
    "\n",
    "#rag function\n",
    "def get_rag_response(query: str, k: int = 5):\n",
    "    \n",
    "    query_embedding = retriever_model.encode([query])\n",
    "    distances, indices = index.search(np.array(query_embedding), k)\n",
    "    retrieved_contexts = [corpus[i] for i in indices[0]]\n",
    "    context_str = \"\\n\\n\".join(retrieved_contexts)\n",
    "\n",
    "    \n",
    "    try:\n",
    "        chat_completion = client.chat.completions.create(\n",
    "            messages=[\n",
    "                {\n",
    "                    \"role\": \"system\",\n",
    "                    \"content\": \"You are a helpful quote assistant. You will be given context and a query. Your task is to provide a concise summary based *only* on the provided context and then list the most relevant quotes from that context to answer the query.\"\n",
    "                },\n",
    "                {\n",
    "                    \"role\": \"user\",\n",
    "                    \"content\": f\"CONTEXT:\\n{context_str}\\n\\nQUERY:\\n{query}\",\n",
    "                }\n",
    "            ],\n",
    "            model=\"llama3-8b-8192\",  \n",
    "            temperature=0.7,\n",
    "            max_tokens=300,\n",
    "        )\n",
    "        generated_answer = chat_completion.choices[0].message.content\n",
    "        return generated_answer, retrieved_contexts\n",
    "\n",
    "    except Exception as e:\n",
    "        print(f\"An error occurred during the Groq API call: {e}\")\n",
    "        \n",
    "        return \"Error: Could not get a response from the LLM.\", []\n",
    "\n",
    "#function testing\n",
    "print(\"\\n--- Running a test query with the Groq API ---\")\n",
    "test_query = \"Motivational quotes tagged 'accomplishment'\"\n",
    "\n",
    "\n",
    "answer, contexts = get_rag_response(test_query)\n",
    "\n",
    "print(f\"\\nQUERY: {test_query}\")\n",
    "\n",
    "if \"Error:\" in answer:\n",
    "    print(\"\\n==================== FAILED TO GET RESPONSE ====================\")\n",
    "    print(answer)\n",
    "else:\n",
    "    print(\"\\n==================== GENERATED ANSWER (from Groq/Llama 3) ====================\")\n",
    "    print(answer)\n",
    "    print(\"\\n==================== RETRIEVED CONTEXTS ====================\")\n",
    "    if contexts:\n",
    "        for i, context in enumerate(contexts, 1):\n",
    "            print(f\"Context {i}:\\n{context}\\n\")\n",
    "    else:\n",
    "        print(\"No contexts were retrieved.\")"
   ]
  },
  {
   "cell_type": "code",
   "execution_count": null,
   "id": "faa07ef6-9d44-493c-a742-388a52562caa",
   "metadata": {},
   "outputs": [],
   "source": [
    "# Running the RAGAS Evaluation"
   ]
  },
  {
   "cell_type": "code",
   "execution_count": 61,
   "id": "52e09c72-8a83-48b6-826c-19e5a4f22ce3",
   "metadata": {},
   "outputs": [
    {
     "name": "stdout",
     "output_type": "stream",
     "text": [
      "Initializing local embedding model for RAGAS...\n"
     ]
    },
    {
     "name": "stderr",
     "output_type": "stream",
     "text": [
      "C:\\Users\\HP\\AppData\\Local\\Temp\\ipykernel_44364\\3473314747.py:28: LangChainDeprecationWarning: The class `HuggingFaceBgeEmbeddings` was deprecated in LangChain 0.2.2 and will be removed in 1.0. An updated version of the class exists in the :class:`~langchain-huggingface package and should be used instead. To use it run `pip install -U :class:`~langchain-huggingface` and import as `from :class:`~langchain_huggingface import HuggingFaceEmbeddings``.\n",
      "  ragas_embeddings = HuggingFaceBgeEmbeddings(model_name=\"BAAI/bge-small-en-v1.5\")\n"
     ]
    },
    {
     "data": {
      "application/vnd.jupyter.widget-view+json": {
       "model_id": "bb39f7a9e18e404db14fadf1634f743d",
       "version_major": 2,
       "version_minor": 0
      },
      "text/plain": [
       "modules.json:   0%|          | 0.00/349 [00:00<?, ?B/s]"
      ]
     },
     "metadata": {},
     "output_type": "display_data"
    },
    {
     "name": "stderr",
     "output_type": "stream",
     "text": [
      "D:\\semantic_quote_retrievalsystem\\rag_env\\Lib\\site-packages\\huggingface_hub\\file_download.py:143: UserWarning: `huggingface_hub` cache-system uses symlinks by default to efficiently store duplicated files but your machine does not support them in C:\\Users\\HP\\.cache\\huggingface\\hub\\models--BAAI--bge-small-en-v1.5. Caching files will still work but in a degraded version that might require more space on your disk. This warning can be disabled by setting the `HF_HUB_DISABLE_SYMLINKS_WARNING` environment variable. For more details, see https://huggingface.co/docs/huggingface_hub/how-to-cache#limitations.\n",
      "To support symlinks on Windows, you either need to activate Developer Mode or to run Python as an administrator. In order to activate developer mode, see this article: https://docs.microsoft.com/en-us/windows/apps/get-started/enable-your-device-for-development\n",
      "  warnings.warn(message)\n"
     ]
    },
    {
     "data": {
      "application/vnd.jupyter.widget-view+json": {
       "model_id": "8c1db249dd2d4b9aaf1cf2476ce3ffaf",
       "version_major": 2,
       "version_minor": 0
      },
      "text/plain": [
       "config_sentence_transformers.json:   0%|          | 0.00/124 [00:00<?, ?B/s]"
      ]
     },
     "metadata": {},
     "output_type": "display_data"
    },
    {
     "data": {
      "application/vnd.jupyter.widget-view+json": {
       "model_id": "804ecc29eb3c474da9ac948f24957bf2",
       "version_major": 2,
       "version_minor": 0
      },
      "text/plain": [
       "README.md:   0%|          | 0.00/94.8k [00:00<?, ?B/s]"
      ]
     },
     "metadata": {},
     "output_type": "display_data"
    },
    {
     "data": {
      "application/vnd.jupyter.widget-view+json": {
       "model_id": "33a8d42cdf32428babd002dba90a794e",
       "version_major": 2,
       "version_minor": 0
      },
      "text/plain": [
       "sentence_bert_config.json:   0%|          | 0.00/52.0 [00:00<?, ?B/s]"
      ]
     },
     "metadata": {},
     "output_type": "display_data"
    },
    {
     "data": {
      "application/vnd.jupyter.widget-view+json": {
       "model_id": "0215e5a1c52d4049a4657068384f0149",
       "version_major": 2,
       "version_minor": 0
      },
      "text/plain": [
       "config.json:   0%|          | 0.00/743 [00:00<?, ?B/s]"
      ]
     },
     "metadata": {},
     "output_type": "display_data"
    },
    {
     "data": {
      "application/vnd.jupyter.widget-view+json": {
       "model_id": "ac4348ecd2344ead96d49fc257207b04",
       "version_major": 2,
       "version_minor": 0
      },
      "text/plain": [
       "model.safetensors:   0%|          | 0.00/133M [00:00<?, ?B/s]"
      ]
     },
     "metadata": {},
     "output_type": "display_data"
    },
    {
     "data": {
      "application/vnd.jupyter.widget-view+json": {
       "model_id": "a24ddea853fe445a89e9ff4c9fb12c05",
       "version_major": 2,
       "version_minor": 0
      },
      "text/plain": [
       "tokenizer_config.json:   0%|          | 0.00/366 [00:00<?, ?B/s]"
      ]
     },
     "metadata": {},
     "output_type": "display_data"
    },
    {
     "data": {
      "application/vnd.jupyter.widget-view+json": {
       "model_id": "d482e461d50e451f886af05f60f5be5f",
       "version_major": 2,
       "version_minor": 0
      },
      "text/plain": [
       "vocab.txt:   0%|          | 0.00/232k [00:00<?, ?B/s]"
      ]
     },
     "metadata": {},
     "output_type": "display_data"
    },
    {
     "data": {
      "application/vnd.jupyter.widget-view+json": {
       "model_id": "d22c607bd3b24e7cbfce7a0024498106",
       "version_major": 2,
       "version_minor": 0
      },
      "text/plain": [
       "tokenizer.json:   0%|          | 0.00/711k [00:00<?, ?B/s]"
      ]
     },
     "metadata": {},
     "output_type": "display_data"
    },
    {
     "data": {
      "application/vnd.jupyter.widget-view+json": {
       "model_id": "63a9b468da94424295008e61d3c300c5",
       "version_major": 2,
       "version_minor": 0
      },
      "text/plain": [
       "special_tokens_map.json:   0%|          | 0.00/125 [00:00<?, ?B/s]"
      ]
     },
     "metadata": {},
     "output_type": "display_data"
    },
    {
     "data": {
      "application/vnd.jupyter.widget-view+json": {
       "model_id": "622b11a22de14266bf39537e03253a08",
       "version_major": 2,
       "version_minor": 0
      },
      "text/plain": [
       "config.json:   0%|          | 0.00/190 [00:00<?, ?B/s]"
      ]
     },
     "metadata": {},
     "output_type": "display_data"
    },
    {
     "name": "stdout",
     "output_type": "stream",
     "text": [
      "Embedding model initialized.\n",
      "\n",
      "Running RAGAS evaluation...\n"
     ]
    },
    {
     "data": {
      "application/vnd.jupyter.widget-view+json": {
       "model_id": "458e313a5879433d905ab07a7b1ca1fd",
       "version_major": 2,
       "version_minor": 0
      },
      "text/plain": [
       "Evaluating:   0%|          | 0/12 [00:00<?, ?it/s]"
      ]
     },
     "metadata": {},
     "output_type": "display_data"
    },
    {
     "name": "stderr",
     "output_type": "stream",
     "text": [
      "Exception raised in Job[7]: TimeoutError()\n",
      "Exception raised in Job[4]: TimeoutError()\n"
     ]
    },
    {
     "name": "stdout",
     "output_type": "stream",
     "text": [
      "Evaluation finished.\n",
      "\n",
      "--- RAGAS Evaluation Results ---\n",
      "{'faithfulness': 0.2000, 'answer_relevancy': 0.8655, 'context_recall': 0.3333, 'context_precision': 0.2500}\n",
      "\n",
      "--- Results as DataFrame ---\n",
      "                                     user_input  \\\n",
      "0  Quotes about insanity attributed to Einstein   \n",
      "1   Motivational quotes tagged 'accomplishment'   \n",
      "2             All Oscar Wilde quotes with humor   \n",
      "\n",
      "                                  retrieved_contexts  \\\n",
      "0  [Quote: \"“I became insane, with long intervals...   \n",
      "1  [Quote: \"“To be yourself in a world that is co...   \n",
      "2  [Quote: \"“If we couldn't laugh we would all go...   \n",
      "\n",
      "                                            response  \\\n",
      "0  Based on the provided context, there are no qu...   \n",
      "1  Summary:\\nThe context provides five motivation...   \n",
      "2  Based on the provided context, here is a summa...   \n",
      "\n",
      "                                           reference  faithfulness  \\\n",
      "0  The definition of insanity is doing the same t...           0.0   \n",
      "1  A motivational quote about accomplishment is '...           NaN   \n",
      "2  Oscar Wilde has several humorous quotes, inclu...           0.4   \n",
      "\n",
      "   answer_relevancy  context_recall  context_precision  \n",
      "0          0.964938             0.5                0.0  \n",
      "1          0.703735             0.0                NaN  \n",
      "2          0.927787             0.5                0.5  \n"
     ]
    }
   ],
   "source": [
    "import os\n",
    "from datasets import Dataset\n",
    "from ragas import evaluate\n",
    "from ragas.metrics import (\n",
    "    faithfulness,\n",
    "    answer_relevancy,\n",
    "    context_recall,\n",
    "    context_precision,\n",
    ")\n",
    "from ragas.llms.base import LangchainLLMWrapper\n",
    "from langchain_groq import ChatGroq\n",
    "\n",
    "\n",
    "from langchain_community.embeddings import HuggingFaceBgeEmbeddings\n",
    "\n",
    "\n",
    "os.environ[\"GROQ_API_KEY\"] = \"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\"\n",
    "groq_llm = ChatGroq(model_name=\"llama3-8b-8192\")\n",
    "ragas_llm = LangchainLLMWrapper(groq_llm)\n",
    "\n",
    "\n",
    "#configuring RAGAS embedding model\n",
    "print(\"Initializing local embedding model for RAGAS...\")\n",
    "\n",
    "ragas_embeddings = HuggingFaceBgeEmbeddings(model_name=\"BAAI/bge-small-en-v1.5\")\n",
    "print(\"Embedding model initialized.\")\n",
    "\n",
    "print(\"\\nRunning RAGAS evaluation...\")\n",
    "result = evaluate(\n",
    "    dataset=eval_dataset,\n",
    "    metrics=[\n",
    "        faithfulness,\n",
    "        answer_relevancy,\n",
    "        context_recall,\n",
    "        context_precision,\n",
    "    ],\n",
    "    llm=ragas_llm,             \n",
    "    embeddings=ragas_embeddings,\n",
    "    raise_exceptions=False\n",
    ")\n",
    "\n",
    "print(\"Evaluation finished.\")\n",
    "\n",
    "\n",
    "print(\"\\n--- RAGAS Evaluation Results ---\")\n",
    "print(result)\n",
    "\n",
    "df_results = result.to_pandas()\n",
    "print(\"\\n--- Results as DataFrame ---\")\n",
    "print(df_results.head())"
   ]
  },
  {
   "cell_type": "code",
   "execution_count": null,
   "id": "bd1d6366-8a12-4778-a343-3f2a60b72cfc",
   "metadata": {},
   "outputs": [],
   "source": []
  }
 ],
 "metadata": {
  "kernelspec": {
   "display_name": "Python 3 (ipykernel)",
   "language": "python",
   "name": "python3"
  },
  "language_info": {
   "codemirror_mode": {
    "name": "ipython",
    "version": 3
   },
   "file_extension": ".py",
   "mimetype": "text/x-python",
   "name": "python",
   "nbconvert_exporter": "python",
   "pygments_lexer": "ipython3",
   "version": "3.12.4"
  }
 },
 "nbformat": 4,
 "nbformat_minor": 5
}
